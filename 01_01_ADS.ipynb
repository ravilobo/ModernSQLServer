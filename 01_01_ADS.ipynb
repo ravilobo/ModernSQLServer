{
    "metadata": {
        "kernelspec": {
            "name": "SQL",
            "display_name": "SQL",
            "language": "sql"
        },
        "language_info": {
            "name": "sql",
            "version": ""
        }
    },
    "nbformat_minor": 2,
    "nbformat": 4,
    "cells": [
        {
            "cell_type": "markdown",
            "source": [
                "# Azure Data Studio\n",
                "\n",
                "- Open source \n",
                "- Supports multiple langauages: PowerShell, Python, R, Scala, Spark \n",
                "- Supports Notebooks\n",
                "- This is easy!"
            ],
            "metadata": {
                "azdata_cell_guid": "8ab90ee0-a8c5-45eb-8430-8c99d691b0a7"
            }
        },
        {
            "cell_type": "markdown",
            "source": [
                "This is a simple TSQL code:"
            ],
            "metadata": {
                "azdata_cell_guid": "f4c73866-9c1b-458e-ba3b-c6e02e349d0e"
            }
        },
        {
            "cell_type": "code",
            "source": [
                "select name, max_column_id_used from sys.tables "
            ],
            "metadata": {
                "azdata_cell_guid": "90f80e72-a8ad-4fe7-bf93-da163d8b9762",
                "tags": [
                    "hide_input"
                ]
            },
            "outputs": [],
            "execution_count": null
        },
        {
            "cell_type": "markdown",
            "source": [
                "This is a simple PowerShell code:"
            ],
            "metadata": {
                "azdata_cell_guid": "7f8254b5-bb5a-473f-8757-6c0328419c62"
            }
        },
        {
            "cell_type": "code",
            "source": [
                "clear-host \r\n",
                "get-storelist | select-object -first 10"
            ],
            "metadata": {
                "azdata_cell_guid": "8b20137d-52e8-4c2a-9b6e-f84565fdf45c",
                "tags": []
            },
            "outputs": [],
            "execution_count": null
        },
        {
            "cell_type": "markdown",
            "source": [
                "### ADS Extensions:\n",
                "\n",
                "- Data visualizer\n",
                "- Query History\n",
                "- Simple Data Scripter"
            ],
            "metadata": {
                "azdata_cell_guid": "70530c10-637d-4e31-a061-4d0b8f48634c"
            }
        },
        {
            "cell_type": "markdown",
            "source": [
                "More ADS features: \n",
                "\n",
                "- Server groups & scripting table data\n",
                "- Peek definition\n",
                "- Convert TSQL to Notebook\n",
                "- Save data"
            ],
            "metadata": {
                "azdata_cell_guid": "5ec350f9-cc7d-4518-8c71-696f6b1a814a"
            }
        }
    ]
}